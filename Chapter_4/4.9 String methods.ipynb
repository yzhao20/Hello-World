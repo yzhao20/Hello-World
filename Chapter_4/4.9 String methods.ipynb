{
 "cells": [
  {
   "cell_type": "markdown",
   "metadata": {},
   "source": [
    "#### 1. Capitalize, Center, Endswith, Startswith, Find"
   ]
  },
  {
   "cell_type": "code",
   "execution_count": 59,
   "metadata": {},
   "outputs": [
    {
     "name": "stdout",
     "output_type": "stream",
     "text": [
      "yun...FFng\n",
      "Yun...ffng\n",
      "False\n"
     ]
    }
   ],
   "source": [
    "a = \"yun...FFng\"\n",
    "b = a.capitalize()    # Conver first letter to upper-case, while others to lower-case\n",
    "print(a)\n",
    "print(b)\n",
    "print(a == b)"
   ]
  },
  {
   "cell_type": "code",
   "execution_count": 60,
   "metadata": {},
   "outputs": [
    {
     "name": "stdout",
     "output_type": "stream",
     "text": [
      "[  alpha   ]\n",
      "[**alpha***]\n"
     ]
    }
   ],
   "source": [
    "print('[' + 'alpha'.center(10) + ']')   # Center a string inside a field of a specified width.b\n",
    "print('[' + 'alpha'.center(10, '*') + ']')"
   ]
  },
  {
   "cell_type": "code",
   "execution_count": 61,
   "metadata": {},
   "outputs": [
    {
     "name": "stdout",
     "output_type": "stream",
     "text": [
      "yes\n"
     ]
    }
   ],
   "source": [
    "if 'epsilon'.endswith('on'): # Checks if the given string ends with the specified argument\n",
    "    print('yes')\n",
    "else:\n",
    "    print('no')"
   ]
  },
  {
   "cell_type": "code",
   "execution_count": 62,
   "metadata": {},
   "outputs": [
    {
     "name": "stdout",
     "output_type": "stream",
     "text": [
      "True\n"
     ]
    }
   ],
   "source": [
    "print('omega'.startswith('o'))"
   ]
  },
  {
   "cell_type": "code",
   "execution_count": 63,
   "metadata": {},
   "outputs": [
    {
     "name": "stdout",
     "output_type": "stream",
     "text": [
      "3\n",
      "6\n"
     ]
    }
   ],
   "source": [
    "print(\"E..sdfsd\".find('sd'))  # Returns start position of argument in a string, -1 if not found.(Good as no error)\n",
    "print(\"E..sdfsd\".find('sd', 5)) # Start position is given, so the first sd is skipped."
   ]
  },
  {
   "cell_type": "code",
   "execution_count": 64,
   "metadata": {},
   "outputs": [
    {
     "name": "stdout",
     "output_type": "stream",
     "text": [
      "11\n",
      "11\n",
      "37\n",
      "101\n"
     ]
    }
   ],
   "source": [
    "text = \"This would be a very long text, just because I want to make a test for find method. Therefore, don't be frustrated if you spend some time reading it. Thank you. Best,YZ\"\n",
    "fnd = text.find('be') # Initiate the fnd value before the while loop, returns the first position of the text.\n",
    "print(fnd)\n",
    "while fnd != -1:  # It returns -1 if not found, which is exactly the exit of this while loop\n",
    "    print(fnd)\n",
    "    fnd = text.find('be', fnd + 1)  # Look for the position of next argument."
   ]
  },
  {
   "cell_type": "code",
   "execution_count": 65,
   "metadata": {},
   "outputs": [
    {
     "name": "stdout",
     "output_type": "stream",
     "text": [
      "-1\n"
     ]
    }
   ],
   "source": [
    "print('kappa'.find('a', 2, 4))  # Intersting, as start position 2 is included, but stop position 4 is NOT included."
   ]
  },
  {
   "cell_type": "markdown",
   "metadata": {},
   "source": [
    "#### 2. Isalnum, Isalpha, Isdigit, Islower, Isspace, Isupper, Lower, Upper"
   ]
  },
  {
   "cell_type": "code",
   "execution_count": 66,
   "metadata": {},
   "outputs": [
    {
     "name": "stdout",
     "output_type": "stream",
     "text": [
      "True\n",
      "False\n",
      "False\n",
      "False\n",
      "False\n",
      "True\n",
      "False\n",
      "True\n",
      "False\n",
      "si==ttee\n",
      "SIGMA=60\n"
     ]
    }
   ],
   "source": [
    "print('lamd30'.isalnum())\n",
    "print('lam.bds30'.isalnum())   # The . is neither a letter or number\n",
    "print('lam bds30'.isalnum())   # The space is neither a letter or number\n",
    "print(''.isalnum())   # Empty string contains nothing\n",
    "print('Mu556asdfsf'.isalpha())\n",
    "print('383837272'.isdigit())\n",
    "print('isdjfABSkls'.islower())\n",
    "print(' \\n '.isspace())    # True as \\n is ignored.\n",
    "print('mnASDF'.isupper())\n",
    "print('Si==TTee'.lower())   # Lower case all letters.\n",
    "print('sigMA=60'.upper())   # Upper case all letters."
   ]
  },
  {
   "cell_type": "markdown",
   "metadata": {},
   "source": [
    "#### 3. String and List conversion"
   ]
  },
  {
   "cell_type": "code",
   "execution_count": 67,
   "metadata": {},
   "outputs": [
    {
     "name": "stdout",
     "output_type": "stream",
     "text": [
      "a**b <class 'str'>\n",
      "phi.   chi\n",
      "psi\n",
      "['phi.', 'chi', 'psi']\n"
     ]
    }
   ],
   "source": [
    "print('**'.join(['a', 'b']), type(','.join(['a', 'b'])))   # Convert a list to string by .join method\n",
    "print('phi.   chi\\npsi')       # Returns two lines as a '\\n' is detected.\n",
    "print('phi.   chi\\npsi'.split())   # Split a string to a list, where \\n is also ignored."
   ]
  },
  {
   "cell_type": "markdown",
   "metadata": {},
   "source": [
    "#### 4. Lstrip, rstrip, strip"
   ]
  },
  {
   "cell_type": "code",
   "execution_count": 68,
   "metadata": {},
   "outputs": [
    {
     "name": "stdout",
     "output_type": "stream",
     "text": [
      "[tau   ]\n",
      "[\n",
      "sisco.com\n",
      "[ epsilon]\n",
      "www.sisco.co\n",
      "[a lpha]\n"
     ]
    }
   ],
   "source": [
    "print('[' + ' tau   '.lstrip() + ']')   # The all leading spaces are stripped out.\n",
    "print('[' + '')\n",
    "print('www.sisco.com'.lstrip('w.'))   # All leading \"w.\" are stripped out.\n",
    "print('[' + ' epsilon '.rstrip() + ']')  # The all right spaces are stripped out.\n",
    "print('www.sisco.com'.rstrip('m'))\n",
    "print('[' + '   a lpha '.strip() + ']')  # Strip methods combines all functinalities offered by lstrip and rstrip."
   ]
  },
  {
   "cell_type": "markdown",
   "metadata": {},
   "source": [
    "#### 5. Replace, swapcase, title"
   ]
  },
  {
   "cell_type": "code",
   "execution_count": 69,
   "metadata": {},
   "outputs": [
    {
     "name": "stdout",
     "output_type": "stream",
     "text": [
      "Th** ** **bella.\n",
      "Th** is isbella.\n",
      "8\n",
      "-1\n",
      "4\n"
     ]
    }
   ],
   "source": [
    "print('This is isbella.'.replace('is', '**'))   # Replace ALL items by whatever is given.\n",
    "print('This is isbella.'.replace('is', '**', 1))  # Replace ONLY the first number of items.\n",
    "print('tau tau tau'.rfind('ta'))  # Returns the HIGHEST position starting from the right hand side.\n",
    "print('tau tau tau'.rfind('ta', 9))  # 9 is start postion\n",
    "print('tau tau tau'.rfind('ta', 3, 9))  # 3 and 9 are start and stop positions seperately."
   ]
  },
  {
   "cell_type": "code",
   "execution_count": 70,
   "metadata": {},
   "outputs": [
    {
     "name": "stdout",
     "output_type": "stream",
     "text": [
      "yUNFENG IS MY NAME, AND i'M 20\n",
      "One Thing In China\n"
     ]
    }
   ],
   "source": [
    "print('Yunfeng is my name, and I\\'m 20'.swapcase())  # Upper and lower cases are swapped.\n",
    "print('One thing in china'.title())   # Convert "
   ]
  }
 ],
 "metadata": {
  "kernelspec": {
   "display_name": "Python 3",
   "language": "python",
   "name": "python3"
  },
  "language_info": {
   "codemirror_mode": {
    "name": "ipython",
    "version": 3
   },
   "file_extension": ".py",
   "mimetype": "text/x-python",
   "name": "python",
   "nbconvert_exporter": "python",
   "pygments_lexer": "ipython3",
   "version": "3.7.6"
  }
 },
 "nbformat": 4,
 "nbformat_minor": 4
}
