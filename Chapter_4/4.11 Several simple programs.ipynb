{
 "cells": [
  {
   "cell_type": "markdown",
   "metadata": {},
   "source": [
    "#### 1. Cesar Cipher"
   ]
  },
  {
   "cell_type": "markdown",
   "metadata": {},
   "source": [
    "Step 1: Below is the encoding process."
   ]
  },
  {
   "cell_type": "code",
   "execution_count": 6,
   "metadata": {},
   "outputs": [
    {
     "name": "stdout",
     "output_type": "stream",
     "text": [
      "Enter message: u\n",
      "V\n"
     ]
    }
   ],
   "source": [
    "text = input('Enter message: ')\n",
    "cipher = ''  # Initiate the result\n",
    "for i in text: \n",
    "    if not i.isalpha():  # If the element is not a letter, moves on to the next one.\n",
    "        continue\n",
    "    i = i.upper()   # Convert to upper case, as Cesar cipher only recognise capital letters.\n",
    "    code = ord(i) + 1  # This is the Cesar cipher rule\n",
    "    if code > ord('Z'):  # If the code point value is greater than Z, just return to the code point of A.\n",
    "        code = ord('A')\n",
    "    cipher += chr(code)\n",
    "print(cipher)"
   ]
  },
  {
   "cell_type": "markdown",
   "metadata": {},
   "source": [
    "Step 2: Below is the uncoding process."
   ]
  },
  {
   "cell_type": "code",
   "execution_count": 8,
   "metadata": {},
   "outputs": [
    {
     "name": "stdout",
     "output_type": "stream",
     "text": [
      "Enter cryptogram: u\n",
      "T\n"
     ]
    }
   ],
   "source": [
    "cipher = input('Enter cryptogram: ')\n",
    "text = ''\n",
    "for i in cipher:\n",
    "    if not i.isalpha():\n",
    "        continue\n",
    "    i = i.upper()\n",
    "    code = ord(i) - 1\n",
    "    if code < ord('A'):   # This is the case if i is \"A\"\n",
    "        code = ord('Z')\n",
    "    text += chr(code)\n",
    "print(text)"
   ]
  },
  {
   "cell_type": "markdown",
   "metadata": {},
   "source": [
    "#### 2. Sum of a line with numbers"
   ]
  },
  {
   "cell_type": "code",
   "execution_count": 12,
   "metadata": {},
   "outputs": [
    {
     "name": "stdout",
     "output_type": "stream",
     "text": [
      "Enter line full of numbers seperated with spaces.1 2\n",
      "Sum: 3.0\n"
     ]
    }
   ],
   "source": [
    "line = input('Enter line full of numbers seperated with spaces.')\n",
    "strings = line.split()\n",
    "sum = 0\n",
    "try:  # As float conversion may raise an exception, it's best to continue with the protection of the try-except block.\n",
    "    if len(line) > 0:\n",
    "        for i in strings:\n",
    "            sum += float(i)\n",
    "        print('Sum:', sum)\n",
    "    else:\n",
    "        print('Empty input')\n",
    "except:\n",
    "    print('Not a number included', i)  # The element i still applies."
   ]
  },
  {
   "cell_type": "markdown",
   "metadata": {},
   "source": [
    "#### 3. IBAN account number conversion"
   ]
  },
  {
   "cell_type": "code",
   "execution_count": 14,
   "metadata": {},
   "outputs": [
    {
     "name": "stdout",
     "output_type": "stream",
     "text": [
      "Enter IBAN, please: y\n",
      "too short\n"
     ]
    }
   ],
   "source": [
    "iban = input('Enter IBAN, please: ')\n",
    "iban = iban.replace(' ', '')  # The number can contain spaces, as they significantly improves the readability\n",
    "if not iban.isalnum():   # The IBAN must consist of letters and numbers ONLY!\n",
    "    print('Invalid account input')  # The length of IBAN is [15, 30]\n",
    "elif len(iban) < 15:\n",
    "    print('too short')\n",
    "elif len(iban) > 31:\n",
    "    print('too long')\n",
    "else:\n",
    "    iban = (iban[4:] + iban[0:4]).upper()  # Move the four initial characters to the end, and convert them to upper-case\n",
    "    iban2 = ''\n",
    "    for ch in iban:\n",
    "        if ch.isdigit():\n",
    "            iban2 += ch  # If the character is a digit, just copy it.\n",
    "        else:\n",
    "            iban2 += str(10 + ord(ch) - ord('A')) # Convert it into two digits, where A=10, B=11,..., Z=35\n",
    "    iban = int(iban2)\n",
    "    if iban % 97 == 1:  # This is the rule how to check if it is valid.\n",
    "        print('Seems legit.')\n",
    "    else:\n",
    "        print('Not valid.')\n",
    "    "
   ]
  }
 ],
 "metadata": {
  "kernelspec": {
   "display_name": "Python 3",
   "language": "python",
   "name": "python3"
  },
  "language_info": {
   "codemirror_mode": {
    "name": "ipython",
    "version": 3
   },
   "file_extension": ".py",
   "mimetype": "text/x-python",
   "name": "python",
   "nbconvert_exporter": "python",
   "pygments_lexer": "ipython3",
   "version": "3.7.6"
  }
 },
 "nbformat": 4,
 "nbformat_minor": 4
}
