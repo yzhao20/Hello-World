{
 "cells": [
  {
   "cell_type": "markdown",
   "metadata": {},
   "source": [
    "#### 1. Try except block inside a function"
   ]
  },
  {
   "cell_type": "markdown",
   "metadata": {},
   "source": [
    "Python 3 defines 63 built-in exceptions, and all of them form a tree-shaped hierarchy.  \n",
    "  \n",
    "  E.g\n",
    "    ZeroDivisionError -- ArithmeticError -- Exception -- BaseException"
   ]
  },
  {
   "cell_type": "code",
   "execution_count": 2,
   "metadata": {},
   "outputs": [
    {
     "name": "stdout",
     "output_type": "stream",
     "text": [
      "Sorry for arithemetic\n",
      "The End\n"
     ]
    }
   ],
   "source": [
    "def badfun(x):\n",
    "    \"\"\"\n",
    "    An exception is raised INSIDE a function.\n",
    "    \"\"\"\n",
    "    try:\n",
    "        return 1/x\n",
    "    except ArithmeticError:\n",
    "        print('Sorry for arithemetic')\n",
    "    return None\n",
    "\n",
    "badfun(0)\n",
    "print('The End')"
   ]
  },
  {
   "cell_type": "markdown",
   "metadata": {},
   "source": [
    "#### 2. Exception outside a function"
   ]
  },
  {
   "cell_type": "code",
   "execution_count": 4,
   "metadata": {},
   "outputs": [
    {
     "name": "stdout",
     "output_type": "stream",
     "text": [
      "What did you do?\n",
      "The End\n"
     ]
    }
   ],
   "source": [
    "def badfun1(x):\n",
    "    \"\"\"\n",
    "    An exception is OUTSIDE a function\n",
    "    \"\"\"\n",
    "    return 1/x\n",
    "try:\n",
    "    badfun1(0)\n",
    "except ArithmeticError:\n",
    "    print('What did you do?')\n",
    "print('The End')"
   ]
  },
  {
   "cell_type": "markdown",
   "metadata": {},
   "source": [
    "#### 3. Raise keyword with two different approaches"
   ]
  },
  {
   "cell_type": "code",
   "execution_count": 5,
   "metadata": {},
   "outputs": [
    {
     "name": "stdout",
     "output_type": "stream",
     "text": [
      "What did you do?\n",
      "The End\n"
     ]
    }
   ],
   "source": [
    "def badfun2(x):\n",
    "    \"\"\"\n",
    "    Raise keyword is used. The ZeroDivisionError is part of ArithmeticError, so that except is raised to the try-except block code.\n",
    "    \"\"\"\n",
    "    raise ZeroDivisionError\n",
    "try:\n",
    "    badfun2(0)\n",
    "except ArithmeticError:\n",
    "    print('What did you do?')\n",
    "print('The End')"
   ]
  },
  {
   "cell_type": "code",
   "execution_count": 7,
   "metadata": {},
   "outputs": [
    {
     "name": "stdout",
     "output_type": "stream",
     "text": [
      "I did it again\n",
      "I see.\n",
      "The End.\n"
     ]
    }
   ],
   "source": [
    "def badfun3(x):\n",
    "    \"\"\"\n",
    "    If nothing followed after raise, it can be used ONLY in except branch.b\n",
    "    \"\"\"\n",
    "    try:\n",
    "        return x/0\n",
    "    except:\n",
    "        print('I did it again')\n",
    "        raise\n",
    "try:\n",
    "    badfun3(0)\n",
    "except ArithmeticError:\n",
    "    print('I see.')\n",
    "print('The End.')"
   ]
  },
  {
   "cell_type": "markdown",
   "metadata": {},
   "source": [
    "#### 4. Assert keyword and AssertError"
   ]
  },
  {
   "cell_type": "code",
   "execution_count": 8,
   "metadata": {},
   "outputs": [
    {
     "name": "stdout",
     "output_type": "stream",
     "text": [
      "Please enter a value: 20\n",
      "4.47213595499958\n"
     ]
    }
   ],
   "source": [
    "\"\"\"\n",
    "Syntax: assert expresseion\n",
    "If the expression evaluates to True, or a non-zero numerical value, or a non-empty string, or any other value different\n",
    "than None, it won't do anything.\n",
    "Otherwise, it automatically and immedidately raises an exception named AssertError.\n",
    "\"\"\"\n",
    "import math\n",
    "x = float(input('Please enter a value: '))\n",
    "assert x >= 0.0       # No\n",
    "x = math.sqrt(x)\n",
    "print(x)"
   ]
  }
 ],
 "metadata": {
  "kernelspec": {
   "display_name": "Python 3",
   "language": "python",
   "name": "python3"
  },
  "language_info": {
   "codemirror_mode": {
    "name": "ipython",
    "version": 3
   },
   "file_extension": ".py",
   "mimetype": "text/x-python",
   "name": "python",
   "nbconvert_exporter": "python",
   "pygments_lexer": "ipython3",
   "version": "3.7.6"
  }
 },
 "nbformat": 4,
 "nbformat_minor": 4
}
