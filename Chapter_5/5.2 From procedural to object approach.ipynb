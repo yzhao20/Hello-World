{
 "cells": [
  {
   "cell_type": "markdown",
   "metadata": {},
   "source": [
    "## Stack is a strucutre developed to store data in a very specific way.\n",
    "    \n",
    "    1. The alternative name for a stack (but only in IT terminology) is LIFO that is short for \"Last In First Out\".\n",
    "    \n",
    "    2. A stack is an object with two elementary operations:\n",
    "        a) Push: when a new element is put on the top\n",
    "        b) Pop: when an existing element is taken away from the top"
   ]
  },
  {
   "cell_type": "markdown",
   "metadata": {},
   "source": [
    "### 1. stack - the procedural approach\n",
    "\n",
    "Two assumptions are made:\n",
    "1. The size of the stack is not limited in any way.\n",
    "\n",
    "2. The last element of the list stores the top element."
   ]
  },
  {
   "cell_type": "code",
   "execution_count": 3,
   "metadata": {},
   "outputs": [
    {
     "name": "stdout",
     "output_type": "stream",
     "text": [
      "1\n",
      "2\n",
      "3\n"
     ]
    }
   ],
   "source": [
    "stack = []     # Initiate the stack by creating an empty list\n",
    "def push(val):    \n",
    "    \"\"\"This function with one argument, returns nothing but append one element to the end of the stack list\"\"\"\n",
    "    stack.append(val)   \n",
    "def pop():\n",
    "    \"\"\"No argument for this function, which reads the value from the top of the stack and removes it\"\"\"\n",
    "    val = stack[-1]    \n",
    "    del stack[-1]    # Del function is used to pop out the last element\n",
    "    return val   # Just return the last element. The return statement is always the last one.\n",
    "push(3)\n",
    "push(2)\n",
    "push(1)\n",
    "print(pop())\n",
    "print(pop())\n",
    "print(pop())"
   ]
  },
  {
   "cell_type": "markdown",
   "metadata": {},
   "source": [
    "#### Some disadvantages about procedural approach:\n",
    "\n",
    "1. The essential variable, i.e stack list, is highly vulnerable. Anyone can modify it in an uncontrollable way.\n",
    "\n",
    "2. It may happen to need more stacks, you'll need to create more lists.\n",
    "\n",
    "3. It may also happen that you need not only push and pop functions, but also some other conveniences."
   ]
  },
  {
   "cell_type": "markdown",
   "metadata": {},
   "source": [
    "### 2. stack - the object approach\n",
    "\n",
    "The object approach delivers solutions for each of the above problems.\n",
    "1. **Encapsulation** can hide(protect) selected values against unauthorised access.\n",
    "\n",
    "2. A class implements all the needed stack behaviors, you can produce as may stacks as you want.\n",
    "\n",
    "3. **Inheritance** enables users to enrich the stack with new functions."
   ]
  },
  {
   "cell_type": "code",
   "execution_count": 5,
   "metadata": {},
   "outputs": [
    {
     "ename": "AttributeError",
     "evalue": "'Stack' object has no attribute '__stk'",
     "output_type": "error",
     "traceback": [
      "\u001b[0;31m---------------------------------------------------------------------------\u001b[0m",
      "\u001b[0;31mAttributeError\u001b[0m                            Traceback (most recent call last)",
      "\u001b[0;32m<ipython-input-5-c1f63057c2bf>\u001b[0m in \u001b[0;36m<module>\u001b[0;34m\u001b[0m\n\u001b[1;32m      5\u001b[0m \u001b[0;34m\u001b[0m\u001b[0m\n\u001b[1;32m      6\u001b[0m \u001b[0mstack\u001b[0m \u001b[0;34m=\u001b[0m \u001b[0mStack\u001b[0m\u001b[0;34m(\u001b[0m\u001b[0;34m)\u001b[0m\u001b[0;34m\u001b[0m\u001b[0;34m\u001b[0m\u001b[0m\n\u001b[0;32m----> 7\u001b[0;31m \u001b[0mprint\u001b[0m\u001b[0;34m(\u001b[0m\u001b[0mlen\u001b[0m\u001b[0;34m(\u001b[0m\u001b[0mstack\u001b[0m\u001b[0;34m.\u001b[0m\u001b[0m__stk\u001b[0m\u001b[0;34m)\u001b[0m\u001b[0;34m)\u001b[0m  \u001b[0;31m# Error as __sk is called outside the class, __stk is encapsulated.\u001b[0m\u001b[0;34m\u001b[0m\u001b[0;34m\u001b[0m\u001b[0m\n\u001b[0m",
      "\u001b[0;31mAttributeError\u001b[0m: 'Stack' object has no attribute '__stk'"
     ]
    }
   ],
   "source": [
    "class Stack:     # Define a class named \"Stack\"\n",
    "    def __init__(self):    # This constructor is invoked implicitly and automatically\n",
    "        self.__stk = []    # Any class component has a name starting with two underscores become private. That means \n",
    "                           # that it can be accessed ONLY from within the class. \n",
    "\n",
    "stack = Stack()\n",
    "print(len(stack.__stk))  # Error as __sk is called outside the class, __stk is encapsulated. "
   ]
  },
  {
   "cell_type": "code",
   "execution_count": 17,
   "metadata": {},
   "outputs": [
    {
     "name": "stdout",
     "output_type": "stream",
     "text": [
      "3\n"
     ]
    }
   ],
   "source": [
    "class Stack:\n",
    "    \"\"\"This class would create objects with private data, but with same set of methods\"\"\"\n",
    "    def __init__(self):\n",
    "        self.__stk = []   # Private data attributes, they won't affect each other\n",
    "    \n",
    "    def push(self, val):  # No two or more underscores, public for every object\n",
    "        self.__stk.append(val)\n",
    "    \n",
    "    def pop(self):     # Method /function /class activity /operations, every method needs the self argument.\n",
    "        val = self.__stk[-1]\n",
    "        del self.__stk[-1]\n",
    "        return val\n",
    "    \n",
    "stack1 = Stack()\n",
    "stack2 = Stack()\n",
    "stack1.push(3)\n",
    "stack2.push(stack1.pop())\n",
    "print(stack2.pop())"
   ]
  },
  {
   "cell_type": "code",
   "execution_count": 18,
   "metadata": {},
   "outputs": [
    {
     "name": "stdout",
     "output_type": "stream",
     "text": [
      "0\n"
     ]
    }
   ],
   "source": [
    "little_stack = Stack()\n",
    "another_stack = Stack()\n",
    "funny_stack = Stack()\n",
    "little_stack.push(1)\n",
    "another_stack.push(little_stack.pop() + 1)  # The pop methods returns the value of removed element\n",
    "funny_stack.push(another_stack.pop() - 2)\n",
    "print(funny_stack.pop())"
   ]
  },
  {
   "cell_type": "code",
   "execution_count": 19,
   "metadata": {},
   "outputs": [],
   "source": [
    "class AddingStack(Stack):  # Create a subclass of an existing Stack class\n",
    "    pass   # It doesn't define anything, BUT it gets all the components by its superclass"
   ]
  },
  {
   "cell_type": "code",
   "execution_count": 21,
   "metadata": {},
   "outputs": [
    {
     "name": "stdout",
     "output_type": "stream",
     "text": [
      "10\n",
      "4\t3\t2\t1\t0\t"
     ]
    }
   ],
   "source": [
    "class AddingStack(Stack):\n",
    "    def __init__(self):\n",
    "        Stack.__init__(self)  # Required! Python forces users to explicitly invoke a superclass' constructor.\n",
    "        self.__sum = 0   # This is a private variable. so nobody can manipulate this variable.\n",
    "    \n",
    "    def push(self, val):  # Overwrite this push method for AddingStack class\n",
    "        self.__sum += val\n",
    "        Stack.push(self, val)  # This activity has already been implemented inside the superclass - so we can use that\n",
    "    \n",
    "    def pop(self):\n",
    "        val = Stack.pop(self)  # Stack.pop method returns the omitted value\n",
    "        self.__sum -= val\n",
    "        return val\n",
    "    \n",
    "    def getSum(self):\n",
    "        return self.__sum\n",
    "\n",
    "stack = AddingStack()    # One instance/object under the \"AddingStack\" class.\n",
    "for i in range(5):\n",
    "    stack.push(i)   # Using the push method under the AddingStack class\n",
    "print(stack.getSum())   # stack.getSum method returns the sum variable, and print it out.\n",
    "for i in range(5):\n",
    "    print(stack.pop(), end='\\t')"
   ]
  }
 ],
 "metadata": {
  "kernelspec": {
   "display_name": "Python 3",
   "language": "python",
   "name": "python3"
  },
  "language_info": {
   "codemirror_mode": {
    "name": "ipython",
    "version": 3
   },
   "file_extension": ".py",
   "mimetype": "text/x-python",
   "name": "python",
   "nbconvert_exporter": "python",
   "pygments_lexer": "ipython3",
   "version": "3.7.6"
  }
 },
 "nbformat": 4,
 "nbformat_minor": 4
}
