{
 "cells": [
  {
   "cell_type": "markdown",
   "metadata": {},
   "source": [
    "### 1. Python is good for both object and procedural programming\n",
    "\n",
    "- 1. Procedural programming works very well for specific types of projects. Generally, not very complex ones and not large ones, but there are lots of exceptions to this rule.\n",
    "\n",
    "\n",
    "- 2. Object approach is particularly useful when applied to big and complex projects carried out by large teams sonsisting of many developers.\n",
    "\n",
    "    - This kind of understanding of a project's structure makes many important tasks easier, e.g., dividing the project into small, independent parts, and independent development of different project elements\n",
    "    - Some of problems (e.g., Graphical User Interface handling) may require a strict object approach."
   ]
  },
  {
   "cell_type": "markdown",
   "metadata": {},
   "source": [
    "### 2. Procedural approach\n",
    "   - World of data: Populated with variables of different kinds.\n",
    "   \n",
    "   \n",
    "   \n",
    "   - World of code: Inhabited by code grouped into modules and functions.\n",
    "   \n",
    "   \n",
    "   \n",
    "   - Functions are able to use or abuse data, but **NOT** vice versa"
   ]
  },
  {
   "cell_type": "markdown",
   "metadata": {},
   "source": [
    "### 3. Object Approach\n",
    "\n",
    "   - Data **CAN** use functions in this case, they are called **methods**. These are functions which are invoked from within the data, not beside them.\n",
    "   \n",
    "   \n",
    "   - The data and code are enclosed together in the same world, divided into classes.\n",
    "   \n",
    "   \n",
    "   - Every class is like a **recipe** which can be used when you want to create a useful object (this is where the name of the approach comes from). You may produce as many objects as you need to solve your problem.\n",
    "   \n",
    "   \n",
    "   - Every object has a set of traits (called attributes or properties) and is able to perform a set of activities (called methods)\n",
    "   \n",
    "   \n",
    "   - The recipes may be modified if they are inadequate for specific purposes and, in effect, **new classes** may be created. These new classes inherit properties and methods from the originals, and usually add some new ones, creating new, more specific tools.\n",
    "   \n",
    "   \n",
    "   - Objects are **incarnations** of ideas expressed in classes. The objects interact with each other, exchanging data or activating their methods.\n",
    "   \n",
    "   \n",
    "   - There is no clear border between data and code: they live as one in objects."
   ]
  },
  {
   "cell_type": "markdown",
   "metadata": {},
   "source": [
    "### 4. The object - what is it ?\n",
    "\n",
    "- 1. A class is a set of objects. An object is a being belonging to a class. An object is an incarnation of the requirements, traits, and qualities assigned to a specific class.\n",
    "\n",
    "\n",
    "- 2. Classes **form a hierarchy**. This means that an object belonging to a specific class belongs to **all the superclass** at the same time. It also means that any object belonging to a superclass **may not** belong to any of its subclasses.\n",
    "\n",
    "\n",
    "- 3. The object's home class may define new traits (as well as requirements and qualities) which will be **inherited by any of its superclasses.**"
   ]
  },
  {
   "cell_type": "markdown",
   "metadata": {},
   "source": [
    "### 5. What does an object have?\n",
    "\n",
    "- 1. Every existing object may be equipped with three groups of attributes:\n",
    "    - **Name**, which *uniquely* identifies it within its home namespace (although there may be some anonymous objects, too)\n",
    "    \n",
    "    - **Properties**, which make it original, unique or outstanding (although it's possible that some objects may have no properties at all)\n",
    "    \n",
    "    - **Activies**, which make it being able to change the object itself, or some of th other objects.\n",
    "    \n",
    "    \n",
    "- 2. The newly created object is equipped with **everything** the class brings."
   ]
  }
 ],
 "metadata": {
  "kernelspec": {
   "display_name": "Python 3",
   "language": "python",
   "name": "python3"
  },
  "language_info": {
   "codemirror_mode": {
    "name": "ipython",
    "version": 3
   },
   "file_extension": ".py",
   "mimetype": "text/x-python",
   "name": "python",
   "nbconvert_exporter": "python",
   "pygments_lexer": "ipython3",
   "version": "3.7.6"
  }
 },
 "nbformat": 4,
 "nbformat_minor": 4
}
